{
 "cells": [
  {
   "cell_type": "code",
   "execution_count": 2,
   "id": "bb32ff9f",
   "metadata": {},
   "outputs": [
    {
     "name": "stdout",
     "output_type": "stream",
     "text": [
      "정수 10개를 입력하세요\n",
      "50보다 큰 수: [77, 67, 59, 78, 90, 80, 786]\n"
     ]
    }
   ],
   "source": [
    "numbers = []\n",
    "\n",
    "print(\"정수 10개를 입력하세요\")\n",
    "for i in range(10):\n",
    "    num = int(input())\n",
    "    numbers.append(num)\n",
    "\n",
    "# 비교 연산자 > 를 이용해 50보다 큰 수 찾기\n",
    "over_50 = []\n",
    "for n in numbers:\n",
    "    if n > 50:\n",
    "        over_50.append(n)\n",
    "\n",
    "print(\"50보다 큰 수:\", over_50)"
   ]
  },
  {
   "cell_type": "code",
   "execution_count": 3,
   "id": "b7cf9030",
   "metadata": {},
   "outputs": [
    {
     "name": "stdout",
     "output_type": "stream",
     "text": [
      "******\n",
      "*    *\n",
      "*    *\n",
      "*    *\n",
      "*    *\n",
      "******\n"
     ]
    }
   ],
   "source": [
    "n = int(input(\"정수를 입력하세요: \"))\n",
    "\n",
    "for i in range(n):\n",
    "    for j in range(n):\n",
    "        # 가장자리면 별 출력\n",
    "        if i == 0 or i == n-1 or j == 0 or j == n-1:\n",
    "            print(\"*\", end=\"\")\n",
    "        else:\n",
    "            print(\" \", end=\"\")\n",
    "    print()"
   ]
  },
  {
   "cell_type": "code",
   "execution_count": null,
   "id": "73cffa1c",
   "metadata": {},
   "outputs": [
    {
     "name": "stdout",
     "output_type": "stream",
     "text": [
      "15\n"
     ]
    }
   ],
   "source": [
    "#8번 문제 \n",
    "\n",
    "n = [1,2,3,4,5]\n",
    "print(n[0]+n[1]+n[2]+n[3]+n[4])\n",
    "\n",
    "\n",
    "\n"
   ]
  },
  {
   "cell_type": "code",
   "execution_count": null,
   "id": "007e461a",
   "metadata": {},
   "outputs": [],
   "source": []
  }
 ],
 "metadata": {
  "kernelspec": {
   "display_name": "Python 3",
   "language": "python",
   "name": "python3"
  },
  "language_info": {
   "codemirror_mode": {
    "name": "ipython",
    "version": 3
   },
   "file_extension": ".py",
   "mimetype": "text/x-python",
   "name": "python",
   "nbconvert_exporter": "python",
   "pygments_lexer": "ipython3",
   "version": "3.13.5"
  }
 },
 "nbformat": 4,
 "nbformat_minor": 5
}
