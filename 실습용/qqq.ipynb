{
 "cells": [
  {
   "cell_type": "markdown",
   "id": "c29312ee",
   "metadata": {},
   "source": [
    "문1) 자동차 번호가 다음과 같을 때 뒤에 4자리만 출력하세요.\n"
   ]
  },
  {
   "cell_type": "code",
   "execution_count": 5,
   "id": "aa69d2df",
   "metadata": {},
   "outputs": [
    {
     "data": {
      "text/plain": [
       "'3709'"
      ]
     },
     "execution_count": 5,
     "metadata": {},
     "output_type": "execute_result"
    }
   ],
   "source": [
    "자동차번호 = '10라 3709'\n",
    "자동차번호[4:]"
   ]
  },
  {
   "cell_type": "markdown",
   "id": "55f9a5d8",
   "metadata": {},
   "source": [
    "문2) 아래의 문자열에서 '홀' 이 몇개 있는지 출력하세요."
   ]
  },
  {
   "cell_type": "code",
   "execution_count": 33,
   "id": "f74e6e3b",
   "metadata": {},
   "outputs": [
    {
     "data": {
      "text/plain": [
       "4"
      ]
     },
     "execution_count": 33,
     "metadata": {},
     "output_type": "execute_result"
    }
   ],
   "source": [
    "문자열 = '짝홀짝홀짝홀짝홀짝'\n",
    "문자열.count('홀')"
   ]
  },
  {
   "cell_type": "code",
   "execution_count": null,
   "id": "348eabbb",
   "metadata": {},
   "outputs": [],
   "source": [
    "문3) 변수에 다음과 같이 문자열과 정수를 이용하여 출력 예시와 같이 formatting 하여 출력하세요."
   ]
  },
  {
   "cell_type": "code",
   "execution_count": 9,
   "id": "26d0f881",
   "metadata": {},
   "outputs": [
    {
     "name": "stdout",
     "output_type": "stream",
     "text": [
      "이름: 아이유 나이: 25\n",
      "이름: 서태지 나이: 48\n"
     ]
    }
   ],
   "source": [
    "이름1 = '아이유'\n",
    "나이1 = 25\n",
    "이름2 = \"서태지\"\n",
    "나이2 = 48\n",
    "\n",
    "print(f\"이름: {이름1} 나이: {나이1}\")\n",
    "print(f\"이름: {이름2} 나이: {나이2}\")\n",
    "\n",
    "#formatting 예시) 이름: 홍길동 나이: 16"
   ]
  },
  {
   "cell_type": "markdown",
   "id": "adfcfe5c",
   "metadata": {},
   "source": [
    "문4) 다음 리스트에는 4개의 영화 제목이 입력되어있습니다. \"슈퍼맨\"는 몇번째 위치(인덱스)에 있는지 출력하세요."
   ]
  },
  {
   "cell_type": "code",
   "execution_count": 10,
   "id": "d2ff576a",
   "metadata": {},
   "outputs": [
    {
     "data": {
      "text/plain": [
       "'슈퍼맨'"
      ]
     },
     "execution_count": 10,
     "metadata": {},
     "output_type": "execute_result"
    }
   ],
   "source": [
    "영화 = ['스파이더맨', '배트맨', '슈퍼맨', '원펀맨']\n",
    "\n",
    "영화[-2]"
   ]
  },
  {
   "cell_type": "markdown",
   "id": "509e38c5",
   "metadata": {},
   "source": [
    "문5) 다음 리스트에서 문자열의 길이가 가장 긴 문자열을 찾아 출력하세요."
   ]
  },
  {
   "cell_type": "code",
   "execution_count": null,
   "id": "a2dd90b1",
   "metadata": {},
   "outputs": [],
   "source": [
    "리스트 = [\"쌈장\", \"불고기\", \"삼겹살\", \"된장\", \"간고등어\"]\n"
   ]
  },
  {
   "cell_type": "markdown",
   "id": "4e1cbd11",
   "metadata": {},
   "source": [
    "문6) 다음 이름과 가격을 딕셔너리 자료형으로 담아서 출력하세요.\n",
    "\n",
    "이름\t가격\n",
    "메로나\t1000\n",
    "폴라포\t1200\n",
    "투게더\t4000"
   ]
  },
  {
   "cell_type": "code",
   "execution_count": 16,
   "id": "6e294c16",
   "metadata": {},
   "outputs": [
    {
     "name": "stdout",
     "output_type": "stream",
     "text": [
      "{'메로나': '1000', '폴라포': '1200', '투게더': '4000'}\n"
     ]
    }
   ],
   "source": [
    "dic = {'메로나':'1000', '폴라포':'1200', '투게더':'4000'}\n",
    "print(dic)"
   ]
  },
  {
   "cell_type": "markdown",
   "id": "b7de3df3",
   "metadata": {},
   "source": [
    "문7) 사용자로부터 하나의 숫자를 입력받고, 입력 받은 숫자에 10을 더해 출력하라.\n",
    "입력 > 숫자를 입력하세요: 30\n",
    "출력 > 40"
   ]
  },
  {
   "cell_type": "code",
   "execution_count": null,
   "id": "f40593cf",
   "metadata": {},
   "outputs": [],
   "source": []
  },
  {
   "cell_type": "markdown",
   "id": "0b4baa68",
   "metadata": {},
   "source": [
    "문8) 다음 코드를 for문으로 변경하여 출력하세요."
   ]
  },
  {
   "cell_type": "code",
   "execution_count": 22,
   "id": "e519c3c1",
   "metadata": {},
   "outputs": [
    {
     "name": "stdout",
     "output_type": "stream",
     "text": [
      "10\n",
      "20\n",
      "30\n",
      "10\n",
      "20\n",
      "30\n"
     ]
    }
   ],
   "source": [
    "변수 = 10\n",
    "print(변수)\n",
    "변수 = 20\n",
    "print(변수)\n",
    "변수 = 30\n",
    "print(변수)\n",
    "\n",
    "변수 = [10, 20, 30]\n",
    "for i in 변수:\n",
    "    print(i)"
   ]
  },
  {
   "cell_type": "markdown",
   "id": "d7b3c2c9",
   "metadata": {},
   "source": [
    "문9) 리스트에는 네 개의 문자열이 있습니다. for문을 사용해서 다음과 같이 출력하세요.\n",
    "- 출력:\n",
    "cmd\n",
    "나\n",
    "다\n",
    "라"
   ]
  },
  {
   "cell_type": "code",
   "execution_count": 38,
   "id": "e7ffc2a7",
   "metadata": {},
   "outputs": [],
   "source": [
    "리스트 = [\"가\", \"나\", \"다\", \"라\"]\n"
   ]
  },
  {
   "cell_type": "markdown",
   "id": "c9e5b048",
   "metadata": {},
   "source": [
    "문10) 다음 \"비트코인\" 문자열을 10번 화면에 출력하는 함수를 정의하세요.\n"
   ]
  },
  {
   "cell_type": "code",
   "execution_count": 42,
   "id": "ea0cc56c",
   "metadata": {},
   "outputs": [
    {
     "name": "stdout",
     "output_type": "stream",
     "text": [
      "비트코인\n",
      "비트코인\n",
      "비트코인\n",
      "비트코인\n",
      "비트코인\n",
      "비트코인\n",
      "비트코인\n",
      "비트코인\n",
      "비트코인\n",
      "비트코인\n"
     ]
    }
   ],
   "source": [
    "def 반복함수(문자열):\n",
    "    for i in range(10):\n",
    "        print(문자열 * 1)\n",
    "        \n",
    "반복함수('비트코인')\n"
   ]
  }
 ],
 "metadata": {
  "kernelspec": {
   "display_name": "Python 3",
   "language": "python",
   "name": "python3"
  },
  "language_info": {
   "codemirror_mode": {
    "name": "ipython",
    "version": 3
   },
   "file_extension": ".py",
   "mimetype": "text/x-python",
   "name": "python",
   "nbconvert_exporter": "python",
   "pygments_lexer": "ipython3",
   "version": "3.13.5"
  }
 },
 "nbformat": 4,
 "nbformat_minor": 5
}
