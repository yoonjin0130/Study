{
 "cells": [
  {
   "cell_type": "code",
   "execution_count": 1,
   "id": "7c11e7af",
   "metadata": {},
   "outputs": [
    {
     "name": "stdout",
     "output_type": "stream",
     "text": [
      "졸려요\n"
     ]
    }
   ],
   "source": [
    "a = '졸려요'\n",
    "print(a)"
   ]
  },
  {
   "cell_type": "code",
   "execution_count": 3,
   "id": "2f66ec73",
   "metadata": {},
   "outputs": [
    {
     "name": "stdout",
     "output_type": "stream",
     "text": [
      "졸려요 잠을 자고 싶어요\n"
     ]
    }
   ],
   "source": [
    "b = '잠을 자고 싶어요'\n",
    "c = a + ' ' + b\n",
    "print(c)"
   ]
  },
  {
   "cell_type": "code",
   "execution_count": 5,
   "id": "a6d47e04",
   "metadata": {},
   "outputs": [
    {
     "name": "stdout",
     "output_type": "stream",
     "text": [
      "Life is too short You need python\n",
      "Life is too short You need python\n",
      "Life is too short You need python\n",
      "\n"
     ]
    }
   ],
   "source": [
    "a = 'Life is too short You need python'\n",
    "print((a + '\\n') * 3)"
   ]
  },
  {
   "cell_type": "code",
   "execution_count": 6,
   "id": "004b7fba",
   "metadata": {},
   "outputs": [
    {
     "name": "stdout",
     "output_type": "stream",
     "text": [
      "\n",
      "1. \n",
      "2.\n",
      "3.\n"
     ]
    }
   ],
   "source": [
    "a = '''\n",
    "1. \n",
    "2.\n",
    "3.'''\n",
    "print(a)"
   ]
  },
  {
   "cell_type": "code",
   "execution_count": 7,
   "id": "0f293dce",
   "metadata": {},
   "outputs": [
    {
     "name": "stdout",
     "output_type": "stream",
     "text": [
      "Life is too short \n",
      " You need \t python\n"
     ]
    }
   ],
   "source": [
    "a = 'Life is too short \\n You need \\t python'\n",
    "print(a)"
   ]
  },
  {
   "cell_type": "code",
   "execution_count": 13,
   "id": "637cdd7b",
   "metadata": {},
   "outputs": [
    {
     "name": "stdout",
     "output_type": "stream",
     "text": [
      "점심시간 \n",
      "1시간 남았다\n"
     ]
    }
   ],
   "source": [
    "a = '점심시간 \\n1시간 남았다'\n",
    "print(a)"
   ]
  },
  {
   "cell_type": "code",
   "execution_count": 11,
   "id": "3b9349ce",
   "metadata": {},
   "outputs": [
    {
     "name": "stdout",
     "output_type": "stream",
     "text": [
      "It's cold inside\n",
      "Be careful\n",
      "It's cold inside\n",
      "Be careful\n",
      "It's cold inside\n",
      "Be careful\n",
      "\n"
     ]
    }
   ],
   "source": [
    "a = \"It's cold inside\"\n",
    "b = 'Be careful'\n",
    "print((a + '\\n' + b + '\\n') * 3)"
   ]
  },
  {
   "cell_type": "code",
   "execution_count": 12,
   "id": "e3aa88b9",
   "metadata": {},
   "outputs": [
    {
     "name": "stdout",
     "output_type": "stream",
     "text": [
      "\n",
      "아직도 \n",
      "목이\n",
      "간질간질\n"
     ]
    }
   ],
   "source": [
    "a = '''\n",
    "아직도 \n",
    "목이\n",
    "간질간질'''\n",
    "print(a)"
   ]
  },
  {
   "cell_type": "code",
   "execution_count": 20,
   "id": "51eb56aa",
   "metadata": {},
   "outputs": [
    {
     "name": "stdout",
     "output_type": "stream",
     "text": [
      " Python\n"
     ]
    }
   ],
   "source": [
    "a = \"Life is too short, You need Python\"\n",
    "print(a[-7:])"
   ]
  },
  {
   "cell_type": "code",
   "execution_count": 21,
   "id": "3b44ca6f",
   "metadata": {},
   "outputs": [
    {
     "data": {
      "text/plain": [
       "34"
      ]
     },
     "execution_count": 21,
     "metadata": {},
     "output_type": "execute_result"
    }
   ],
   "source": [
    "a = \"Life is too short, You need Python\"\n",
    "len(a)"
   ]
  },
  {
   "cell_type": "code",
   "execution_count": 22,
   "id": "816a8ac5",
   "metadata": {},
   "outputs": [
    {
     "name": "stdout",
     "output_type": "stream",
     "text": [
      "Life is too short, You need Python\n"
     ]
    }
   ],
   "source": [
    "a = \"Python\"\n",
    "print(\"Life is too short, You need %s\" % a)"
   ]
  },
  {
   "cell_type": "code",
   "execution_count": 23,
   "id": "f3b3bbf3",
   "metadata": {},
   "outputs": [
    {
     "name": "stdout",
     "output_type": "stream",
     "text": [
      "Life is too short, You need Python\n"
     ]
    }
   ],
   "source": [
    "a = \"Python\"\n",
    "print(f\"Life is too short, You need {a}\")"
   ]
  },
  {
   "cell_type": "code",
   "execution_count": 26,
   "id": "8ae5d3a7",
   "metadata": {},
   "outputs": [
    {
     "name": "stdout",
     "output_type": "stream",
     "text": [
      "Life is too short, You need to rest\n"
     ]
    }
   ],
   "source": [
    "a = \"to rest\"\n",
    "print(f\"Life is too short, You need {a}\")"
   ]
  },
  {
   "cell_type": "code",
   "execution_count": 1,
   "id": "e7e6e429",
   "metadata": {},
   "outputs": [
    {
     "data": {
      "text/plain": [
       "10"
      ]
     },
     "execution_count": 1,
     "metadata": {},
     "output_type": "execute_result"
    }
   ],
   "source": [
    "a = '오늘은 목요일입니다'\n",
    "len(a)"
   ]
  },
  {
   "cell_type": "code",
   "execution_count": 10,
   "id": "ac00f415",
   "metadata": {},
   "outputs": [
    {
     "name": "stdout",
     "output_type": "stream",
     "text": [
      "요  목요일\n"
     ]
    }
   ],
   "source": [
    "a = '오늘은 목요일입니다'\n",
    "print(a[5], a[-7:-3])"
   ]
  },
  {
   "cell_type": "code",
   "execution_count": 11,
   "id": "79022282",
   "metadata": {},
   "outputs": [
    {
     "name": "stdout",
     "output_type": "stream",
     "text": [
      "금요일이 빨리 왔으면 좋겠다\n"
     ]
    }
   ],
   "source": [
    "a = '금요일'\n",
    "print(f'{a}이 빨리 왔으면 좋겠다')"
   ]
  },
  {
   "cell_type": "code",
   "execution_count": 15,
   "id": "1f1e2fce",
   "metadata": {},
   "outputs": [
    {
     "name": "stdout",
     "output_type": "stream",
     "text": [
      "오늘은 목요일입니다\n",
      "금요일은 언제\t오나요\n"
     ]
    }
   ],
   "source": [
    "a = '오늘은 목요일입니다'\n",
    "b = '금요일은 언제' + '\\t' + '오나요'\n",
    "print(a + '\\n' + b)"
   ]
  }
 ],
 "metadata": {
  "kernelspec": {
   "display_name": "Python 3",
   "language": "python",
   "name": "python3"
  },
  "language_info": {
   "codemirror_mode": {
    "name": "ipython",
    "version": 3
   },
   "file_extension": ".py",
   "mimetype": "text/x-python",
   "name": "python",
   "nbconvert_exporter": "python",
   "pygments_lexer": "ipython3",
   "version": "3.13.5"
  }
 },
 "nbformat": 4,
 "nbformat_minor": 5
}
