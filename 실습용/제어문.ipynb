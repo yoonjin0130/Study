{
 "cells": [
  {
   "cell_type": "code",
   "execution_count": null,
   "id": "1a09a349",
   "metadata": {},
   "outputs": [],
   "source": [
    "1. 조건문 : if\n",
    "2. 반복문 : for, while"
   ]
  },
  {
   "cell_type": "code",
   "execution_count": 1,
   "id": "373950aa",
   "metadata": {},
   "outputs": [
    {
     "name": "stdout",
     "output_type": "stream",
     "text": [
      "False\n"
     ]
    }
   ],
   "source": [
    "a = 1\n",
    "print(a == 5)"
   ]
  },
  {
   "cell_type": "code",
   "execution_count": 2,
   "id": "475f6840",
   "metadata": {},
   "outputs": [
    {
     "name": "stdout",
     "output_type": "stream",
     "text": [
      "다르다\n"
     ]
    }
   ],
   "source": [
    "a = 10 == 1\n",
    "if a: \n",
    "    print('맞다')\n",
    "else:\n",
    "    print('다르다')"
   ]
  },
  {
   "cell_type": "code",
   "execution_count": 3,
   "id": "16817a26",
   "metadata": {},
   "outputs": [
    {
     "name": "stdout",
     "output_type": "stream",
     "text": [
      "다르다\n"
     ]
    }
   ],
   "source": [
    "a = 10 == 1\n",
    "b = '맞다' if a else '다르다'\n",
    "print(b)"
   ]
  },
  {
   "cell_type": "code",
   "execution_count": 9,
   "id": "5467e5a9",
   "metadata": {},
   "outputs": [
    {
     "name": "stdout",
     "output_type": "stream",
     "text": [
      "2000\n",
      "다시 계산해\n"
     ]
    }
   ],
   "source": [
    "지갑 = 10000\n",
    "음식 = 2000\n",
    "구매수량 = 4\n",
    "print(지갑 - (음식 * 구매수량))\n",
    "\n",
    "지불금액 = 8000\n",
    "\n",
    "if 지불금액 == (지갑 - (음식 * 구매수량)):\n",
    "    print('내가 쏜다')\n",
    "else:\n",
    "    print('다시 계산해')"
   ]
  },
  {
   "cell_type": "code",
   "execution_count": 15,
   "id": "0306b7da",
   "metadata": {},
   "outputs": [
    {
     "name": "stdout",
     "output_type": "stream",
     "text": [
      "내가 쏜다\n"
     ]
    }
   ],
   "source": [
    "지갑 = 10000\n",
    "음식 = 2000\n",
    "구매수량 = 4\n",
    "\n",
    "지불금액 = input('지불금액을 입력하세요')\n",
    "\n",
    "if int(지불금액) == (음식 * 구매수량):\n",
    "    print('내가 쏜다')\n",
    "else:\n",
    "    print('다시 계산해')"
   ]
  },
  {
   "cell_type": "code",
   "execution_count": 11,
   "id": "08188a8f",
   "metadata": {},
   "outputs": [
    {
     "name": "stdout",
     "output_type": "stream",
     "text": [
      "<class 'int'>\n"
     ]
    }
   ],
   "source": [
    "지불금액 = int(input('지불 금액을 입력하세요'))\n",
    "print(type(지불금액))"
   ]
  },
  {
   "cell_type": "code",
   "execution_count": 20,
   "id": "48b7357c",
   "metadata": {},
   "outputs": [
    {
     "name": "stdout",
     "output_type": "stream",
     "text": [
      "타요타요\n"
     ]
    }
   ],
   "source": [
    "잔액 = 5000\n",
    "버스비 = 1500\n",
    "탑승인원 = 3\n",
    "\n",
    "교통비 = input('총 금액을 입력하세요')\n",
    "\n",
    "if int(교통비) == (버스비 * 탑승인원):\n",
    "    print('타요타요')\n",
    "else:\n",
    "    print('내려')\n",
    "    "
   ]
  },
  {
   "cell_type": "code",
   "execution_count": 24,
   "id": "9d92536d",
   "metadata": {},
   "outputs": [
    {
     "name": "stdout",
     "output_type": "stream",
     "text": [
      "오케이 통과\n"
     ]
    }
   ],
   "source": [
    "잔액 = 5000\n",
    "버스비 = 1500\n",
    "탑승인원 = 3\n",
    "\n",
    "교통비 = input('총 금액을 입력하세요')\n",
    "    \n",
    "if 잔액 == int(교통비) + 500:\n",
    "    print('오케이 통과')\n",
    "else:\n",
    "    print('환승하세요')"
   ]
  },
  {
   "cell_type": "code",
   "execution_count": null,
   "id": "be133903",
   "metadata": {},
   "outputs": [],
   "source": []
  },
  {
   "cell_type": "code",
   "execution_count": null,
   "id": "500f0509",
   "metadata": {},
   "outputs": [
    {
     "name": "stdout",
     "output_type": "stream",
     "text": [
      "환타를 주문했습니다. 300원\n",
      "환타 4개 금액은 1200원 입니다.\n",
      "2000원을 받고 800원 거스름돈을 받으세요.\n"
     ]
    }
   ],
   "source": [
    "콜라: 500\n",
    "사이다: 450\n",
    "환타: 300\n",
    "\n",
    "선택한음료 = input(\"콜라, 사이다, 환타 중 하나를 주문하세요.\")\n",
    "금액 = 0\n",
    "if 선택한음료 == '콜라':\n",
    "    print('콜라를 주문했습니다. 500원')\n",
    "    금액 = 500\n",
    "elif 선택한음료 == '사이다':\n",
    "    print('사이다를 주문했습니다. 450원')\n",
    "    금액 = 450\n",
    "elif 선택한음료 == '환타':\n",
    "    print('환타를 주문했습니다. 300원')\n",
    "    금액 = 300\n",
    "    \n",
    "# 음료 = input(\"콜라, 사이다, 환타 중 하나를 입력하세요\")\n",
    "# print(음료)\n",
    "금액 = 0\n",
    "if 음료 == '콜라':\n",
    "    print('500원')\n",
    "    금액 = 500\n",
    "if 음료 == '사이다':\n",
    "    print('450원')\n",
    "    금액 = 450\n",
    "if 음료 == '환타':\n",
    "    print('300원')\n",
    "    금액 = 300\n",
    "    \n",
    "    \n",
    "\n",
    "'문제1) 아래의 조건문에서 해당 음료수를 선택 했을 경우 금액을 알려주고 수량을 받는 입력창을 띄우세요.'\n",
    "수량 = int(input('수량을 입력하세요.'))\n",
    "\n",
    "'문제2) 선택한 음료와 수량의 총 합을 출력해 주세요. 예) 콜라 3개 금액은 1500원 입니다.'\n",
    "총금액 = 금액 * 수량\n",
    "print(f'{선택한음료} {수량}개 금액은 {총금액}원 입니다.')\n",
    "\n",
    "\n",
    "'문제3) 사용자에서 금액을 받고 알맞은 결과를 출력해 주세요. 예) 2000원를 받고 500원 거스름돈를 받으세요.'\n",
    "지불금액 = int(input('지불 금액을 입력하세요.'))\n",
    "거스름돈 = 지불금액 - (총금액)\n",
    "print(f'{지불금액}원을 받고 {거스름돈}원 거스름돈을 받으세요.')"
   ]
  },
  {
   "cell_type": "code",
   "execution_count": null,
   "id": "2180b084",
   "metadata": {},
   "outputs": [
    {
     "ename": "NameError",
     "evalue": "name '음료' is not defined",
     "output_type": "error",
     "traceback": [
      "\u001b[31m---------------------------------------------------------------------------\u001b[39m",
      "\u001b[31mNameError\u001b[39m                                 Traceback (most recent call last)",
      "\u001b[36mCell\u001b[39m\u001b[36m \u001b[39m\u001b[32mIn[1]\u001b[39m\u001b[32m, line 2\u001b[39m\n\u001b[32m      1\u001b[39m 금액 = \u001b[32m0\u001b[39m\n\u001b[32m----> \u001b[39m\u001b[32m2\u001b[39m \u001b[38;5;28;01mif\u001b[39;00m \u001b[43m음료\u001b[49m == \u001b[33m'\u001b[39m\u001b[33m콜라\u001b[39m\u001b[33m'\u001b[39m:\n\u001b[32m      3\u001b[39m     \u001b[38;5;28mprint\u001b[39m(\u001b[33m'\u001b[39m\u001b[33m500원\u001b[39m\u001b[33m'\u001b[39m)\n\u001b[32m      4\u001b[39m     금액 = \u001b[32m500\u001b[39m\n",
      "\u001b[31mNameError\u001b[39m: name '음료' is not defined"
     ]
    }
   ],
   "source": [
    "\n",
    "금액 = 0\n",
    "if 음료 == '콜라':\n",
    "    print('500원')\n",
    "    금액 = 500\n",
    "if 음료 == '사이다':\n",
    "    print('450원')\n",
    "    금액 = 450\n",
    "if 음료 == '환타':\n",
    "    print('300원')\n",
    "    금액 = 300\n",
    "    "
   ]
  }
 ],
 "metadata": {
  "kernelspec": {
   "display_name": "Python 3",
   "language": "python",
   "name": "python3"
  },
  "language_info": {
   "codemirror_mode": {
    "name": "ipython",
    "version": 3
   },
   "file_extension": ".py",
   "mimetype": "text/x-python",
   "name": "python",
   "nbconvert_exporter": "python",
   "pygments_lexer": "ipython3",
   "version": "3.13.5"
  }
 },
 "nbformat": 4,
 "nbformat_minor": 5
}
