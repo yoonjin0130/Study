{
 "cells": [
  {
   "cell_type": "code",
   "execution_count": 3,
   "id": "c63c79dc",
   "metadata": {},
   "outputs": [
    {
     "name": "stdout",
     "output_type": "stream",
     "text": [
      "XXOXX\n",
      "XOOOX\n",
      "OOOOO\n",
      "XOOOX\n",
      "XXOXX\n"
     ]
    }
   ],
   "source": [
    "a = 'X'\n",
    "b = 'O'\n",
    "for y in range(5):\n",
    "    조합 = ''\n",
    "    for x in range(5):\n",
    "        # 문자가 조합 되는 코드 작성\n",
    "        if y == 0 and x == 2:\n",
    "            조합 += b\n",
    "        elif y == 1 and (x == 1 or x == 2 or x == 3) :\n",
    "            조합 += b\n",
    "        elif y == 2:\n",
    "            조합 += b\n",
    "        elif y == 3 and (x == 1 or x == 2 or x == 3) :\n",
    "            조합 += b\n",
    "        elif y == 4 and x == 2:\n",
    "            조합 += b\n",
    "        else:\n",
    "            조합 += a\n",
    "    # 조합 된 문자 출력\n",
    "    print(조합)"
   ]
  },
  {
   "cell_type": "code",
   "execution_count": 10,
   "id": "418f988b",
   "metadata": {},
   "outputs": [
    {
     "name": "stdout",
     "output_type": "stream",
     "text": [
      "XXOXX\n",
      "XOOOX\n",
      "OOOOO\n",
      "XOOOX\n",
      "XXOXX\n"
     ]
    }
   ],
   "source": [
    "a = 'X'\n",
    "b = 'O'\n",
    "for y in range(5):\n",
    "    조합 = ''\n",
    "    for x in range(5):\n",
    "        if (y == 0 or y == 4) and x == 2:\n",
    "            조합 += b\n",
    "        elif (y == 1 or y == 3) and (x == 1 or x == 2 or x == 3):\n",
    "            조합 += b\n",
    "        elif y == 2:\n",
    "            조합 += b\n",
    "        else:\n",
    "            조합 += a\n",
    "    print(조합)"
   ]
  },
  {
   "cell_type": "code",
   "execution_count": 18,
   "id": "997dff35",
   "metadata": {},
   "outputs": [
    {
     "name": "stdout",
     "output_type": "stream",
     "text": [
      "OXXXXXXXXO\n",
      "XOXXXXXXOX\n",
      "XXOXXXXOXX\n",
      "XXXOXXOXXX\n",
      "XXXXOOXXXX\n",
      "XXXXOOXXXX\n",
      "XXXOXXOXXX\n",
      "XXOXXXXOXX\n",
      "XOXXXXXXOX\n",
      "OXXXXXXXXO\n"
     ]
    }
   ],
   "source": [
    "a = 'X'\n",
    "b = 'O'\n",
    "for y in range(10):\n",
    "    조합 = ''\n",
    "    for x in range(10):\n",
    "        if (y == 0 or y == 9) and (x == 0 or x == 9):\n",
    "            조합 += b\n",
    "        elif (y == 1 or y == 8) and (x == 1 or x == 8):\n",
    "            조합 += b\n",
    "        elif (y == 2 or y == 7) and (x == 2 or x == 7):\n",
    "            조합 += b\n",
    "        elif (y == 3 or y == 6) and (x == 3 or x == 6):\n",
    "            조합 += b\n",
    "        elif (y == 4 or y == 5) and (x == 4 or x == 5):\n",
    "            조합 += b    \n",
    "        else:\n",
    "            조합 += a\n",
    "        \n",
    "    print(조합)"
   ]
  },
  {
   "cell_type": "code",
   "execution_count": 23,
   "id": "08f19e48",
   "metadata": {},
   "outputs": [
    {
     "name": "stdout",
     "output_type": "stream",
     "text": [
      "OXXXXXXXXO\n",
      "XOXXXXXXOX\n",
      "XXOXXXXOXX\n",
      "XXXOXXOXXX\n",
      "XXXXOOXXXX\n",
      "XXXXOOXXXX\n",
      "XXXOXXOXXX\n",
      "XXOXXXXOXX\n",
      "XOXXXXXXOX\n",
      "OXXXXXXXXO\n"
     ]
    }
   ],
   "source": [
    "a = 'X'\n",
    "b = 'O'\n",
    "for y in range(10):\n",
    "    조합 = ''\n",
    "    for x in range(10):\n",
    "        if (x == y) or (x + y == 9):\n",
    "            조합 += b\n",
    "        else:\n",
    "            조합 += a\n",
    "        \n",
    "    print(조합)"
   ]
  },
  {
   "cell_type": "code",
   "execution_count": 8,
   "id": "67490e68",
   "metadata": {},
   "outputs": [
    {
     "name": "stdout",
     "output_type": "stream",
     "text": [
      "OXXXX\n",
      "OOXXX\n",
      "OOOXX\n",
      "OOOOX\n",
      "OOOOO\n"
     ]
    }
   ],
   "source": [
    "a = 'X'\n",
    "b = 'O'\n",
    "for x in range(5):\n",
    "    조합 = ''\n",
    "    for y in range(5):\n",
    "        if (y==0):\n",
    "            조합 += b\n",
    "        elif (y==1) and (x==1 or x==2 or x==3 or x==4):\n",
    "            조합 += b\n",
    "        elif (y==2) and (x==2 or x==3 or x==4):\n",
    "            조합 += b\n",
    "        elif (y==3) and (x==3 or x==4):\n",
    "            조합 += b\n",
    "        elif (y==x):\n",
    "            조합 += b\n",
    "        else:\n",
    "            조합 += a\n",
    "    print(조합)"
   ]
  },
  {
   "cell_type": "code",
   "execution_count": 38,
   "id": "40a6c6a9",
   "metadata": {},
   "outputs": [
    {
     "name": "stdout",
     "output_type": "stream",
     "text": [
      "oxxxx\n",
      "ooxxx\n",
      "oooxx\n",
      "oooox\n",
      "ooooo\n"
     ]
    }
   ],
   "source": [
    "for y in range(5):\n",
    "    행 = ''\n",
    "    for x in range(5):\n",
    "        행 += 'o' if x < (y+1) else 'x'\n",
    "    print(행)"
   ]
  },
  {
   "cell_type": "code",
   "execution_count": 40,
   "id": "57aabe9d",
   "metadata": {},
   "outputs": [
    {
     "name": "stdout",
     "output_type": "stream",
     "text": [
      "ooooo\n",
      "oooox\n",
      "oooxx\n",
      "ooxxx\n",
      "oxxxx\n"
     ]
    }
   ],
   "source": [
    "for y in range(5):\n",
    "    행 = ''\n",
    "    for x in range(5):\n",
    "        행 += 'o' if x <= (4 - y) else 'x'\n",
    "    print(행)"
   ]
  },
  {
   "cell_type": "code",
   "execution_count": 41,
   "id": "33e68913",
   "metadata": {},
   "outputs": [
    {
     "name": "stdout",
     "output_type": "stream",
     "text": [
      "xxxxo\n",
      "xxxoo\n",
      "xxooo\n",
      "xoooo\n",
      "ooooo\n"
     ]
    }
   ],
   "source": [
    "for y in range(5):\n",
    "    행 = ''\n",
    "    for x in range(5):\n",
    "        행 += 'o' if x >= (4 - y) else 'x'\n",
    "    print(행)"
   ]
  },
  {
   "cell_type": "code",
   "execution_count": 42,
   "id": "06dc630d",
   "metadata": {},
   "outputs": [
    {
     "name": "stdout",
     "output_type": "stream",
     "text": [
      "ooooo\n",
      "xoooo\n",
      "xxooo\n",
      "xxxoo\n",
      "xxxxo\n"
     ]
    }
   ],
   "source": [
    "for y in range(5):\n",
    "    행 = ''\n",
    "    for x in range(5):\n",
    "        행 += 'o' if x > (y - 1) else 'x'\n",
    "    print(행)"
   ]
  },
  {
   "cell_type": "code",
   "execution_count": 48,
   "id": "6a1ec9f8",
   "metadata": {},
   "outputs": [
    {
     "name": "stdout",
     "output_type": "stream",
     "text": [
      "xxxxoxxxx\n",
      "xxxoooxxx\n",
      "xxoooooxx\n",
      "xooooooox\n",
      "ooooooooo\n",
      "xooooooox\n",
      "xxoooooxx\n",
      "xxxoooxxx\n",
      "xxxxoxxxx\n"
     ]
    }
   ],
   "source": [
    "for y in range(9):\n",
    "    행 = ''\n",
    "    for x in range(9):\n",
    "        if y == 4:\n",
    "            행 += 'o'\n",
    "        elif (y == 0 or y == 8) and x == 4:\n",
    "            행 += 'o'\n",
    "        elif (y == 1 or y == 7) and (3 <= x <= 5) :\n",
    "            행 += 'o'\n",
    "        elif (y == 2 or y == 6) and (2 <= x <= 6) :\n",
    "            행 += 'o'\n",
    "        elif (y == 3 or y == 5) and (1 <= x <= 7) :\n",
    "            행 += 'o'\n",
    "        else:\n",
    "            행 += 'x'\n",
    "    print(행)"
   ]
  },
  {
   "cell_type": "code",
   "execution_count": 3,
   "id": "47f88840",
   "metadata": {},
   "outputs": [],
   "source": [
    "문1 = [\n",
    "    [True,  False,  False,  False,  False],\n",
    "    [True,  True,   False,  False,  False],\n",
    "    [True,  True,   True,   False,  False],\n",
    "    [True,  True,   True,   True,   False],\n",
    "    [True,  True,   True,   True,   True]\n",
    "    ]\n",
    "문2 = [\n",
    "    [True,  True,   True,   True,   True],\n",
    "    [True,  True,   True,   True,   False],\n",
    "    [True,  True,   True,   False,  False],\n",
    "    [True,  True,   False,  False,  False],\n",
    "    [True,  False,  False,  False,  False]\n",
    "    ]\n",
    "문3 = [\n",
    "    [False, False,  False,  False,  True],\n",
    "    [False, False,  False,  True,   True],\n",
    "    [False, False,  True,   True,   True],\n",
    "    [False, True,   True,   True,   True],\n",
    "    [True,  True,   True,   True,   True]\n",
    "    ]\n",
    "문4 = [\n",
    "    [True,  True,   True,   True,   True],\n",
    "    [False, True,   True,   True,   True],\n",
    "    [False, False,  True,   True,   True],\n",
    "    [False, False,  False,  True,   True],\n",
    "    [False, False,  False,  False,  True]\n",
    "    ]"
   ]
  },
  {
   "cell_type": "code",
   "execution_count": 1,
   "id": "54190163",
   "metadata": {},
   "outputs": [],
   "source": [
    "def 실행기(리스트):\n",
    "    for y in 리스트:\n",
    "        행 = ''\n",
    "        for x in y:\n",
    "            행 += 'o' if x else 'x'\n",
    "        print(행)"
   ]
  },
  {
   "cell_type": "code",
   "execution_count": 4,
   "id": "eaec6db5",
   "metadata": {},
   "outputs": [
    {
     "name": "stdout",
     "output_type": "stream",
     "text": [
      "oxxxx\n",
      "ooxxx\n",
      "oooxx\n",
      "oooox\n",
      "ooooo\n"
     ]
    }
   ],
   "source": [
    "실행기(문1)"
   ]
  },
  {
   "cell_type": "code",
   "execution_count": 5,
   "id": "bc8ce0f0",
   "metadata": {},
   "outputs": [
    {
     "name": "stdout",
     "output_type": "stream",
     "text": [
      "ooooo\n",
      "oooox\n",
      "oooxx\n",
      "ooxxx\n",
      "oxxxx\n"
     ]
    }
   ],
   "source": [
    "실행기(문2)"
   ]
  },
  {
   "cell_type": "code",
   "execution_count": 6,
   "id": "175407c7",
   "metadata": {},
   "outputs": [
    {
     "name": "stdout",
     "output_type": "stream",
     "text": [
      "xxxxo\n",
      "xxxoo\n",
      "xxooo\n",
      "xoooo\n",
      "ooooo\n"
     ]
    }
   ],
   "source": [
    "실행기(문3)"
   ]
  },
  {
   "cell_type": "code",
   "execution_count": 7,
   "id": "fea3dfef",
   "metadata": {},
   "outputs": [
    {
     "name": "stdout",
     "output_type": "stream",
     "text": [
      "ooooo\n",
      "xoooo\n",
      "xxooo\n",
      "xxxoo\n",
      "xxxxo\n"
     ]
    }
   ],
   "source": [
    "실행기(문4)"
   ]
  },
  {
   "cell_type": "code",
   "execution_count": 8,
   "id": "8acddead",
   "metadata": {},
   "outputs": [],
   "source": [
    "문5 = [\n",
    "    [False, False,  False,  False,  True,   False,  False,  False,  False],\n",
    "    [False, False,  False,  True,   True,   True,   False,  False,  False],\n",
    "    [False, False,  True,   True,   True,   True,   True,   False,  False],\n",
    "    [False, True,   True,   True,   True,   True,   True,   True,   False],\n",
    "    [True,  True,   True,   True,   True,   True,   True,   True,   True],\n",
    "    [False, True,   True,   True,   True,   True,   True,   True,   False],\n",
    "    [False, False,  True,   True,   True,   True,   True,   False,  False],\n",
    "    [False, False,  False,  True,   True,   True,   False,  False,  False],\n",
    "    [False, False,  False,  False,  True,   False,  False,  False,  False]\n",
    "    ]"
   ]
  },
  {
   "cell_type": "code",
   "execution_count": 9,
   "id": "cd1373e1",
   "metadata": {},
   "outputs": [
    {
     "name": "stdout",
     "output_type": "stream",
     "text": [
      "xxxxoxxxx\n",
      "xxxoooxxx\n",
      "xxoooooxx\n",
      "xooooooox\n",
      "ooooooooo\n",
      "xooooooox\n",
      "xxoooooxx\n",
      "xxxoooxxx\n",
      "xxxxoxxxx\n"
     ]
    }
   ],
   "source": [
    "실행기(문5)"
   ]
  }
 ],
 "metadata": {
  "kernelspec": {
   "display_name": "Python 3",
   "language": "python",
   "name": "python3"
  },
  "language_info": {
   "codemirror_mode": {
    "name": "ipython",
    "version": 3
   },
   "file_extension": ".py",
   "mimetype": "text/x-python",
   "name": "python",
   "nbconvert_exporter": "python",
   "pygments_lexer": "ipython3",
   "version": "3.13.5"
  }
 },
 "nbformat": 4,
 "nbformat_minor": 5
}
