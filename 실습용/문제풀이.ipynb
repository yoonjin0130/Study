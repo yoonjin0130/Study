{
 "cells": [
  {
   "cell_type": "code",
   "execution_count": 2,
   "id": "464ff487",
   "metadata": {},
   "outputs": [
    {
     "ename": "KeyboardInterrupt",
     "evalue": "Interrupted by user",
     "output_type": "error",
     "traceback": [
      "\u001b[31m---------------------------------------------------------------------------\u001b[39m",
      "\u001b[31mKeyboardInterrupt\u001b[39m                         Traceback (most recent call last)",
      "\u001b[36mCell\u001b[39m\u001b[36m \u001b[39m\u001b[32mIn[2]\u001b[39m\u001b[32m, line 4\u001b[39m\n\u001b[32m      1\u001b[39m 선택한음료 = \u001b[33m\"\u001b[39m\u001b[33m콜라, 사이다, 환타 중 하나를 주문하세요.\u001b[39m\u001b[33m\"\u001b[39m\n\u001b[32m      3\u001b[39m \u001b[38;5;28;01mwhile\u001b[39;00m 선택한음료:\n\u001b[32m----> \u001b[39m\u001b[32m4\u001b[39m     선택한음료 = \u001b[38;5;28;43minput\u001b[39;49m\u001b[43m(\u001b[49m\u001b[33;43m\"\u001b[39;49m\u001b[33;43m콜라, 사이다, 환타 중 하나를 주문하세요.\u001b[39;49m\u001b[33;43m\"\u001b[39;49m\u001b[43m)\u001b[49m\n\u001b[32m      5\u001b[39m     금액 = \u001b[32m0\u001b[39m\n\u001b[32m      6\u001b[39m     \u001b[38;5;28;01mif\u001b[39;00m 선택한음료 == \u001b[33m'\u001b[39m\u001b[33m콜라\u001b[39m\u001b[33m'\u001b[39m:\n",
      "\u001b[36mFile \u001b[39m\u001b[32m~\\AppData\\Roaming\\Python\\Python313\\site-packages\\ipykernel\\kernelbase.py:1282\u001b[39m, in \u001b[36mKernel.raw_input\u001b[39m\u001b[34m(self, prompt)\u001b[39m\n\u001b[32m   1280\u001b[39m     msg = \u001b[33m\"\u001b[39m\u001b[33mraw_input was called, but this frontend does not support input requests.\u001b[39m\u001b[33m\"\u001b[39m\n\u001b[32m   1281\u001b[39m     \u001b[38;5;28;01mraise\u001b[39;00m StdinNotImplementedError(msg)\n\u001b[32m-> \u001b[39m\u001b[32m1282\u001b[39m \u001b[38;5;28;01mreturn\u001b[39;00m \u001b[38;5;28;43mself\u001b[39;49m\u001b[43m.\u001b[49m\u001b[43m_input_request\u001b[49m\u001b[43m(\u001b[49m\n\u001b[32m   1283\u001b[39m \u001b[43m    \u001b[49m\u001b[38;5;28;43mstr\u001b[39;49m\u001b[43m(\u001b[49m\u001b[43mprompt\u001b[49m\u001b[43m)\u001b[49m\u001b[43m,\u001b[49m\n\u001b[32m   1284\u001b[39m \u001b[43m    \u001b[49m\u001b[38;5;28;43mself\u001b[39;49m\u001b[43m.\u001b[49m\u001b[43m_parent_ident\u001b[49m\u001b[43m[\u001b[49m\u001b[33;43m\"\u001b[39;49m\u001b[33;43mshell\u001b[39;49m\u001b[33;43m\"\u001b[39;49m\u001b[43m]\u001b[49m\u001b[43m,\u001b[49m\n\u001b[32m   1285\u001b[39m \u001b[43m    \u001b[49m\u001b[38;5;28;43mself\u001b[39;49m\u001b[43m.\u001b[49m\u001b[43mget_parent\u001b[49m\u001b[43m(\u001b[49m\u001b[33;43m\"\u001b[39;49m\u001b[33;43mshell\u001b[39;49m\u001b[33;43m\"\u001b[39;49m\u001b[43m)\u001b[49m\u001b[43m,\u001b[49m\n\u001b[32m   1286\u001b[39m \u001b[43m    \u001b[49m\u001b[43mpassword\u001b[49m\u001b[43m=\u001b[49m\u001b[38;5;28;43;01mFalse\u001b[39;49;00m\u001b[43m,\u001b[49m\n\u001b[32m   1287\u001b[39m \u001b[43m\u001b[49m\u001b[43m)\u001b[49m\n",
      "\u001b[36mFile \u001b[39m\u001b[32m~\\AppData\\Roaming\\Python\\Python313\\site-packages\\ipykernel\\kernelbase.py:1325\u001b[39m, in \u001b[36mKernel._input_request\u001b[39m\u001b[34m(self, prompt, ident, parent, password)\u001b[39m\n\u001b[32m   1322\u001b[39m \u001b[38;5;28;01mexcept\u001b[39;00m \u001b[38;5;167;01mKeyboardInterrupt\u001b[39;00m:\n\u001b[32m   1323\u001b[39m     \u001b[38;5;66;03m# re-raise KeyboardInterrupt, to truncate traceback\u001b[39;00m\n\u001b[32m   1324\u001b[39m     msg = \u001b[33m\"\u001b[39m\u001b[33mInterrupted by user\u001b[39m\u001b[33m\"\u001b[39m\n\u001b[32m-> \u001b[39m\u001b[32m1325\u001b[39m     \u001b[38;5;28;01mraise\u001b[39;00m \u001b[38;5;167;01mKeyboardInterrupt\u001b[39;00m(msg) \u001b[38;5;28;01mfrom\u001b[39;00m\u001b[38;5;250m \u001b[39m\u001b[38;5;28;01mNone\u001b[39;00m\n\u001b[32m   1326\u001b[39m \u001b[38;5;28;01mexcept\u001b[39;00m \u001b[38;5;167;01mException\u001b[39;00m:\n\u001b[32m   1327\u001b[39m     \u001b[38;5;28mself\u001b[39m.log.warning(\u001b[33m\"\u001b[39m\u001b[33mInvalid Message:\u001b[39m\u001b[33m\"\u001b[39m, exc_info=\u001b[38;5;28;01mTrue\u001b[39;00m)\n",
      "\u001b[31mKeyboardInterrupt\u001b[39m: Interrupted by user"
     ]
    }
   ],
   "source": [
    "선택한음료 = \"콜라, 사이다, 환타 중 하나를 주문하세요.\"\n",
    "\n",
    "while 선택한음료:\n",
    "    선택한음료 = input(\"콜라, 사이다, 환타 중 하나를 주문하세요.\")\n",
    "    금액 = 0\n",
    "    if 선택한음료 == '콜라':\n",
    "        print('콜라를 주문했습니다. 500원')\n",
    "        금액 = 500\n",
    "    elif 선택한음료 == '사이다':\n",
    "        print('사이다를 주문했습니다. 450원')\n",
    "        금액 = 450\n",
    "    elif 선택한음료 == '환타':\n",
    "        print('환타를 주문했습니다. 300원')\n",
    "        금액 = 300\n",
    "\n",
    " \n",
    "\n",
    "\n",
    "    수량 = int(input('수량을 입력하세요.'))\n",
    "\n",
    "\n",
    "    총금액 = 금액 * 수량\n",
    "    print(f'{선택한음료} {수량}개 금액은 {총금액}원 입니다.')\n",
    "\n",
    "\n",
    "    지불금액 = int(input('지불 금액을 입력하세요.'))\n",
    "    거스름돈 = 지불금액 - (총금액)\n",
    "    print(f'{지불금액}원을 받고 {거스름돈}원 거스름돈을 받으세요.')"
   ]
  },
  {
   "cell_type": "code",
   "execution_count": null,
   "id": "0d1623d3",
   "metadata": {},
   "outputs": [
    {
     "name": "stdout",
     "output_type": "stream",
     "text": [
      "음료수를 구매할 수 있는 자판기입니다.\n",
      "콜라를 주문했습니다. 500원\n",
      "콜라 2개 금액은 1000원 입니다.\n",
      "5000원을 받고 4000원 거스름돈을 받으세요.\n",
      "음료수를 구매할 수 있는 자판기입니다.\n",
      "콜라를 주문했습니다. 500원\n",
      "콜라 5개 금액은 2500원 입니다.\n",
      "3000원을 받고 500원 거스름돈을 받으세요.\n",
      "음료수를 구매할 수 있는 자판기입니다.\n",
      "콜라를 주문했습니다. 500원\n",
      "콜라 2개 금액은 1000원 입니다.\n",
      "300원을 받고 -700원 거스름돈을 받으세요.\n",
      "음료수를 구매할 수 있는 자판기입니다.\n",
      "자판기가 종료됩니다.\n"
     ]
    }
   ],
   "source": [
    "while 1:\n",
    "    print(\"음료수를 구매할 수 있는 자판기입니다.\")\n",
    "    음료 = input(\"콜라, 사이다, 환타 중 하나를 주문하세요.(종료시 'exit'를 입력하세요)\")\n",
    "    if 음료 == 'exit':\n",
    "        print(\"자판기가 종료됩니다.\")\n",
    "        break\n",
    "    금액 = 0\n",
    "    if 음료 == '콜라':\n",
    "        print('콜라를 주문했습니다. 500원')\n",
    "        금액 = 500\n",
    "    elif 음료 == '사이다':\n",
    "         print('사이다를 주문했습니다. 450원')\n",
    "         금액 = 450\n",
    "    elif 음료 == '환타':\n",
    "         print('환타를 주문했습니다. 300원')\n",
    "         금액 = 300\n",
    "     \n",
    "    수량 = input('수량을 입력하세요.')\n",
    "     \n",
    "    총금액 = 금액 * int(수량)\n",
    "    print(f'{음료} {수량}개 금액은 {총금액}원 입니다.')\n",
    "     \n",
    "    지불금액 = (input('지불 금액을 입력하세요.'))\n",
    "    \n",
    "    거스름돈 = int(지불금액) - (총금액)\n",
    "    print(f'{지불금액}원을 받고 {거스름돈}원 거스름돈을 받으세요.')\n",
    "    "
   ]
  }
 ],
 "metadata": {
  "kernelspec": {
   "display_name": "Python 3",
   "language": "python",
   "name": "python3"
  },
  "language_info": {
   "codemirror_mode": {
    "name": "ipython",
    "version": 3
   },
   "file_extension": ".py",
   "mimetype": "text/x-python",
   "name": "python",
   "nbconvert_exporter": "python",
   "pygments_lexer": "ipython3",
   "version": "3.13.5"
  }
 },
 "nbformat": 4,
 "nbformat_minor": 5
}
