{
 "cells": [
  {
   "cell_type": "markdown",
   "id": "6bcd327e",
   "metadata": {},
   "source": [
    "문1) 1차원 배열(리스트)의 값의 평균값을 구하시오, 단 함수를 이용하세요"
   ]
  },
  {
   "cell_type": "code",
   "execution_count": 3,
   "id": "70a41083",
   "metadata": {},
   "outputs": [
    {
     "name": "stdout",
     "output_type": "stream",
     "text": [
      "[80, 76, 63, 83, 99, 87, 100, 42, 68, 55]\n",
      "75.3\n"
     ]
    }
   ],
   "source": [
    "arr1 = [80,76,63,83,99,87,100,42,68,55]\n",
    "\n",
    "def 평균값(list):\n",
    "    print(list)\n",
    "    # 평균값 구하는 코드를 넣어주세요.\n",
    "    합 = 0\n",
    "    개수 = 0\n",
    "    for i in list:\n",
    "        합 += i\n",
    "        개수 += 1\n",
    "               \n",
    "    return 합 / 개수\n",
    "\n",
    "print(평균값(arr1))"
   ]
  },
  {
   "cell_type": "code",
   "execution_count": 2,
   "id": "816db140",
   "metadata": {},
   "outputs": [
    {
     "name": "stdout",
     "output_type": "stream",
     "text": [
      "75.3\n"
     ]
    }
   ],
   "source": [
    "arr1 = [80,76,63,83,99,87,100,42,68,55]\n",
    "\n",
    "def 평균값(list):\n",
    "    return sum(list) / len(list)\n",
    "print(평균값(arr1))"
   ]
  },
  {
   "cell_type": "markdown",
   "id": "83f61d8c",
   "metadata": {},
   "source": [
    "문2) 2차원 배열의 표에서 가장 점수가 높은 학생을 구하시오, 단 함수를 이용하세요."
   ]
  },
  {
   "cell_type": "code",
   "execution_count": null,
   "id": "c551ccdc",
   "metadata": {},
   "outputs": [
    {
     "name": "stdout",
     "output_type": "stream",
     "text": [
      "가장 점수가 높은 학생은 강감찬 99 점입니다.\n"
     ]
    }
   ],
   "source": [
    "arr2 = [\n",
    "    [\"홍길동\", 80],\n",
    "    [\"류관순\", 76],\n",
    "    [\"강감찬\", 99],\n",
    "    [\"이성계\", 87],\n",
    "    [\"이황\", 68]\n",
    "]\n",
    "\n",
    "def 점수확인(list):\n",
    "    고득점 = list[0]\n",
    "    for 학생 in list:\n",
    "        if 학생[1] > 고득점[1]:\n",
    "            고득점 = 학생\n",
    "    return 고득점\n",
    "\n",
    "결과 = 점수확인(arr2)\n",
    "print(\"가장 점수가 높은 학생은\", 결과[0], 결과[1], \"점입니다.\")"
   ]
  },
  {
   "cell_type": "markdown",
   "id": "613832a6",
   "metadata": {},
   "source": [
    "문3) 2차원 배열의 표에서 평균 값을 구한 후 평균 값 이상인 학생만 구하시오, 단 함수를 이용하세요."
   ]
  },
  {
   "cell_type": "code",
   "execution_count": null,
   "id": "8383fc10",
   "metadata": {},
   "outputs": [
    {
     "name": "stdout",
     "output_type": "stream",
     "text": [
      "평균점수는 82.0점입니다.\n",
      "[['강감찬', 99], ['이성계', 87]]\n"
     ]
    }
   ],
   "source": [
    "arr2 = [\n",
    "    [\"홍길동\", 80],\n",
    "    [\"류관순\", 76],\n",
    "    [\"강감찬\", 99],\n",
    "    [\"이성계\", 87],\n",
    "    [\"이황\", 68]\n",
    "]\n",
    "\n",
    "def 점수확인(list):\n",
    "    합계 = 0\n",
    "    for 학생 in list:\n",
    "        합계 += 학생[1]\n",
    "        \n",
    "    avg = 합계 / len(list)\n",
    "    print(f'평균점수는 {avg}점입니다.')\n",
    "    result = []\n",
    "    for 학생 in list:\n",
    "        if 학생[1] >= avg:\n",
    "            result.append(학생)\n",
    "    return result\n",
    "print(점수확인(arr2))"
   ]
  },
  {
   "cell_type": "markdown",
   "id": "d0dc4180",
   "metadata": {},
   "source": [
    "문4) 배열에서 홀수와 짝수를 따로 반환해 각 배열을 오름차순 정렬하여 출력한 뒤, 각 배열의 평균값을 구하시오."
   ]
  },
  {
   "cell_type": "code",
   "execution_count": 28,
   "id": "b67e0866",
   "metadata": {},
   "outputs": [
    {
     "name": "stdout",
     "output_type": "stream",
     "text": [
      "홀수 정렬: [5, 15, 35, 47, 47, 55, 79, 87]\n",
      "홀수 평균: 46.25\n",
      "짝수 정렬: [12, 18, 24, 44, 98]\n",
      "짝수 평균: 74.0\n"
     ]
    }
   ],
   "source": [
    "arr4 = [18,44,87,35,15,24,79,12,55,47,47,98,5]\n",
    "홀수 = []\n",
    "짝수 = []\n",
    "\n",
    "for num in arr4:\n",
    "    if num % 2 == 0:\n",
    "        짝수.append(num)\n",
    "    else:\n",
    "        홀수.append(num)\n",
    "        \n",
    "홀수.sort()\n",
    "짝수.sort()\n",
    "\n",
    "홀수평균 = sum(홀수) / len(홀수)\n",
    "짝수평균 = sum(홀수) / len(짝수)\n",
    "\n",
    "print(\"홀수 정렬:\", 홀수)\n",
    "print(\"홀수 평균:\", 홀수평균)\n",
    "print(\"짝수 정렬:\", 짝수)\n",
    "print(\"짝수 평균:\", 짝수평균)\n",
    "            \n",
    "        \n",
    "    "
   ]
  },
  {
   "cell_type": "markdown",
   "id": "f9a67a36",
   "metadata": {},
   "source": [
    "문5) 2차원 배열의 표에서 점수 평균을 구하시고, 가장 점수가 높은 학생과 가장 점수가 낮은 학생을 구하시오."
   ]
  },
  {
   "cell_type": "code",
   "execution_count": 38,
   "id": "46a51303",
   "metadata": {},
   "outputs": [
    {
     "name": "stdout",
     "output_type": "stream",
     "text": [
      "전체 평균 점수: 83.4\n",
      "가장 높은 점수 학생: B ( 93 점 )\n",
      "가장 낮은 점수 학생: C ( 75 점 )\n"
     ]
    }
   ],
   "source": [
    "arr5 = [\n",
    "    [\"A\", 79],\n",
    "    [\"B\", 93],\n",
    "    [\"C\", 75],\n",
    "    [\"D\", 89],\n",
    "    [\"E\", 81],\n",
    "]\n",
    "\n",
    "합계 = 0\n",
    "for 학생 in arr5:\n",
    "    합계 += 학생[1]\n",
    "평균 = 합계 / len(arr5)\n",
    "\n",
    "max = arr5[0]\n",
    "min = arr5[0]\n",
    "\n",
    "for 학생 in arr5:\n",
    "    if 학생[1] > max[1]:\n",
    "        max = 학생\n",
    "    if 학생[1] < min[1]:\n",
    "        min = 학생\n",
    "        \n",
    "print(\"전체 평균 점수:\", 평균)\n",
    "print(\"가장 높은 점수 학생:\", max[0], \"(\", max[1], \"점 )\")\n",
    "print(\"가장 낮은 점수 학생:\", min[0], \"(\", min[1], \"점 )\")\n"
   ]
  }
 ],
 "metadata": {
  "kernelspec": {
   "display_name": "Python 3",
   "language": "python",
   "name": "python3"
  },
  "language_info": {
   "codemirror_mode": {
    "name": "ipython",
    "version": 3
   },
   "file_extension": ".py",
   "mimetype": "text/x-python",
   "name": "python",
   "nbconvert_exporter": "python",
   "pygments_lexer": "ipython3",
   "version": "3.13.5"
  }
 },
 "nbformat": 4,
 "nbformat_minor": 5
}
