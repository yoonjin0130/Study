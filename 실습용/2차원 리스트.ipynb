{
 "cells": [
  {
   "cell_type": "code",
   "execution_count": 3,
   "id": "c63c79dc",
   "metadata": {},
   "outputs": [
    {
     "name": "stdout",
     "output_type": "stream",
     "text": [
      "XXOXX\n",
      "XOOOX\n",
      "OOOOO\n",
      "XOOOX\n",
      "XXOXX\n"
     ]
    }
   ],
   "source": [
    "a = 'X'\n",
    "b = 'O'\n",
    "for y in range(5):\n",
    "    조합 = ''\n",
    "    for x in range(5):\n",
    "        # 문자가 조합 되는 코드 작성\n",
    "        if y == 0 and x == 2:\n",
    "            조합 += b\n",
    "        elif y == 1 and (x == 1 or x == 2 or x == 3) :\n",
    "            조합 += b\n",
    "        elif y == 2:\n",
    "            조합 += b\n",
    "        elif y == 3 and (x == 1 or x == 2 or x == 3) :\n",
    "            조합 += b\n",
    "        elif y == 4 and x == 2:\n",
    "            조합 += b\n",
    "        else:\n",
    "            조합 += a\n",
    "    # 조합 된 문자 출력\n",
    "    print(조합)"
   ]
  },
  {
   "cell_type": "code",
   "execution_count": 5,
   "id": "418f988b",
   "metadata": {},
   "outputs": [
    {
     "name": "stdout",
     "output_type": "stream",
     "text": [
      "XXOXX\n",
      "XOOOX\n",
      "OOOOO\n",
      "XOOOX\n",
      "XXOXX\n"
     ]
    }
   ],
   "source": [
    "a = 'X'\n",
    "b = 'O'\n",
    "for y in range(5):\n",
    "    조합 = ''\n",
    "    for x in range(5):\n",
    "        # 문자가 조합 되는 코드 작성\n",
    "        if (y == 0 or y == 4) and x == 2:\n",
    "            조합 += b\n",
    "        elif (y == 1 or y == 3) and (x == 1 or x == 2 or x == 3) :\n",
    "            조합 += b\n",
    "        elif y == 2:\n",
    "            조합 += b\n",
    "        else:\n",
    "            조합 += a\n",
    "    # 조합 된 문자 출력\n",
    "    print(조합)"
   ]
  }
 ],
 "metadata": {
  "kernelspec": {
   "display_name": "Python 3",
   "language": "python",
   "name": "python3"
  },
  "language_info": {
   "codemirror_mode": {
    "name": "ipython",
    "version": 3
   },
   "file_extension": ".py",
   "mimetype": "text/x-python",
   "name": "python",
   "nbconvert_exporter": "python",
   "pygments_lexer": "ipython3",
   "version": "3.13.5"
  }
 },
 "nbformat": 4,
 "nbformat_minor": 5
}
