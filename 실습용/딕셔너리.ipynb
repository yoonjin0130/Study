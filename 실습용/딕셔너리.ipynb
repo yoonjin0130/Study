{
 "cells": [
  {
   "cell_type": "code",
   "execution_count": 1,
   "id": "3a374ff6",
   "metadata": {},
   "outputs": [
    {
     "name": "stdout",
     "output_type": "stream",
     "text": [
      "<class 'dict'>\n"
     ]
    }
   ],
   "source": [
    "데이터 = {'k1':'값1'}\n",
    "print(type(데이터))"
   ]
  },
  {
   "cell_type": "code",
   "execution_count": 3,
   "id": "78e9e82f",
   "metadata": {},
   "outputs": [
    {
     "name": "stdout",
     "output_type": "stream",
     "text": [
      "값1\n"
     ]
    }
   ],
   "source": [
    "print(데이터['k1'])"
   ]
  },
  {
   "cell_type": "code",
   "execution_count": 4,
   "id": "cb379339",
   "metadata": {},
   "outputs": [
    {
     "name": "stdout",
     "output_type": "stream",
     "text": [
      "{'k1': 10}\n"
     ]
    }
   ],
   "source": [
    "데이터['k1'] = 10\n",
    "print(데이터)"
   ]
  },
  {
   "cell_type": "code",
   "execution_count": 6,
   "id": "1fb23a37",
   "metadata": {},
   "outputs": [
    {
     "name": "stdout",
     "output_type": "stream",
     "text": [
      "{'k1': 10, 'k3': [], 'k4': (), 2: 100}\n"
     ]
    }
   ],
   "source": [
    "데이터[2] = 100\n",
    "데이터['k3'] = []\n",
    "데이터['k4'] = ()\n",
    "print(데이터)"
   ]
  },
  {
   "cell_type": "code",
   "execution_count": 7,
   "id": "456c832f",
   "metadata": {},
   "outputs": [
    {
     "name": "stdout",
     "output_type": "stream",
     "text": [
      "10\n",
      "[]\n",
      "()\n",
      "100\n"
     ]
    }
   ],
   "source": [
    "for i in 데이터:\n",
    "    print(데이터[i])"
   ]
  },
  {
   "cell_type": "code",
   "execution_count": null,
   "id": "b10fdea6",
   "metadata": {},
   "outputs": [],
   "source": [
    "print(\"간단한 계산기 입니다.\")\n",
    "value1 = input(\"첫번째 숫자를 입력하세요.\")\n",
    "symbol = input(\"연산 기호를 입력하세요.\")\n",
    "value2 = input(\"두번째 숫자를 입력하세요.\")\n",
    "\n",
    "result = 0\n",
    "if symbol == \"+\": \n",
    "    result = int(value1) + int(value2)\n",
    "elif symbol == \"-\": \n",
    "    result = int(value1) - int(value2)\n",
    "elif symbol == \"*\": \n",
    "    result = int(value1) * int(value2)\n",
    "elif symbol == \"/\": \n",
    "    result = int(value1) / int(value2)\n",
    "    \n",
    "print(f'{value1} {symbol} {value2} = {result}')"
   ]
  },
  {
   "cell_type": "code",
   "execution_count": null,
   "id": "a9c755bd",
   "metadata": {},
   "outputs": [
    {
     "name": "stdout",
     "output_type": "stream",
     "text": [
      "30\n"
     ]
    }
   ],
   "source": [
    "def 더하기(a,b):\n",
    "    return a + b\n",
    "\n",
    "결과 = 더하기(20,10)\n",
    "\n",
    "print(결과)"
   ]
  },
  {
   "cell_type": "code",
   "execution_count": null,
   "id": "96548bad",
   "metadata": {},
   "outputs": [
    {
     "name": "stdout",
     "output_type": "stream",
     "text": [
      "계산기입니다\n",
      "10\n"
     ]
    }
   ],
   "source": [
    "print(\"계산기입니다\")\n",
    "\n",
    "value1 = int(input(\"첫번째 숫자를 입력하세요.\"))\n",
    "symbol = input(\"연산 기호를 입력하세요.\")\n",
    "value2 = int(input(\"두번째 숫자를 입력하세요.\"))\n",
    "\n",
    "\n",
    "def 더하기(a, b):\n",
    "    return a + b\n",
    "def 빼기(a, b):\n",
    "    return a - b\n",
    "def 곱하기(a, b):\n",
    "    return a * b\n",
    "def 나누기(a, b):\n",
    "    return a / b\n",
    "\n",
    "결과 = 0\n",
    "if symbol == \"+\":\n",
    "    결과 = 더하기(value1, value2) \n",
    "elif symbol == \"-\":\n",
    "    결과 = 빼기(value1, value2)    \n",
    "elif symbol == \"*\":\n",
    "    결과 = 곱하기(value1, value2)\n",
    "elif symbol == \"/\":\n",
    "    결과 = 나누기(value1, value2)\n",
    "else:\n",
    "    break\n",
    "    \n",
    "print(결과)"
   ]
  },
  {
   "cell_type": "code",
   "execution_count": null,
   "id": "31fecadd",
   "metadata": {},
   "outputs": [],
   "source": []
  }
 ],
 "metadata": {
  "kernelspec": {
   "display_name": "Python 3",
   "language": "python",
   "name": "python3"
  },
  "language_info": {
   "codemirror_mode": {
    "name": "ipython",
    "version": 3
   },
   "file_extension": ".py",
   "mimetype": "text/x-python",
   "name": "python",
   "nbconvert_exporter": "python",
   "pygments_lexer": "ipython3",
   "version": "3.13.5"
  }
 },
 "nbformat": 4,
 "nbformat_minor": 5
}
